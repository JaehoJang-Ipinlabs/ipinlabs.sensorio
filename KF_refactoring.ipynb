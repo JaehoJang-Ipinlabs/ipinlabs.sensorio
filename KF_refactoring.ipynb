{
 "cells": [
  {
   "cell_type": "code",
   "execution_count": 1,
   "metadata": {},
   "outputs": [],
   "source": [
    "import numpy as np\n",
    "import pandas as pd"
   ]
  },
  {
   "cell_type": "code",
   "execution_count": 25,
   "metadata": {},
   "outputs": [],
   "source": [
    "class KalmanFilter:\n",
    "    def __init__(self):\n",
    "        self.__shape = None # [n, m], a list of state vector length n and measurment vector length m.\n",
    "        self.__A = None # State transition model. Ax[t-1] = x[t]\n",
    "        self.__Q = None # State transition noise covariance.\n",
    "        self.__H = None # State to measurement model. Hx = z\n",
    "        self.__R = None # Measurement noise covariance\n",
    "    # KF shape\n",
    "    @property\n",
    "    def shape(self):\n",
    "        return self.__shape\n",
    "    @shape.setter\n",
    "    def shape(self,shape_new):\n",
    "        if not isinstance(shape_new,list):\n",
    "            raise TypeError('New shape should be a list!')\n",
    "        if not len(shape_new) == 2:\n",
    "            raise ValueError('New shape should have length of 2!')\n",
    "        self.__shape = shape_new    \n",
    "    \n",
    "    # KF Parameters\n",
    "    @property\n",
    "    def A(self):\n",
    "        return self.__A\n",
    "    @A.setter\n",
    "    def A(self, A_new):\n",
    "        if self.__shape is None:\n",
    "            raise Exception('Shape must be set first!')\n",
    "        self.__A = A_new\n",
    "        return None\n",
    "    @property\n",
    "    def Q(self):\n",
    "        return self.__Q\n",
    "    @Q.setter\n",
    "    def Q(self,Q_new):\n",
    "        if self.__shape is None:\n",
    "            raise Exception('Shape must be set first!')\n",
    "        self.__Q = Q_new\n",
    "        return None\n",
    "    @property\n",
    "    def H(self):\n",
    "        return self.__H\n",
    "    @H.setter\n",
    "    def H(self,H_new):\n",
    "        if self.__shape is None:\n",
    "            raise Exception('Shape must be set first!')\n",
    "        self.__H = H_new\n",
    "        return None\n",
    "    @property\n",
    "    def R(self):\n",
    "        return self.__R\n",
    "    @R.setter\n",
    "    def R(self,R_new):\n",
    "        if self.__shape is None:\n",
    "            raise Exception('Shape must be set first!')\n",
    "        return None"
   ]
  },
  {
   "cell_type": "code",
   "execution_count": 28,
   "metadata": {},
   "outputs": [
    {
     "ename": "Exception",
     "evalue": "Shape must be set first!",
     "output_type": "error",
     "traceback": [
      "\u001b[0;31m---------------------------------------------------------------------------\u001b[0m",
      "\u001b[0;31mException\u001b[0m                                 Traceback (most recent call last)",
      "Cell \u001b[0;32mIn[28], line 2\u001b[0m\n\u001b[1;32m      1\u001b[0m foo \u001b[39m=\u001b[39m KalmanFilter()\n\u001b[0;32m----> 2\u001b[0m foo\u001b[39m.\u001b[39mA \u001b[39m=\u001b[39m [\u001b[39m0\u001b[39m,\u001b[39m1\u001b[39m]\n",
      "Cell \u001b[0;32mIn[25], line 27\u001b[0m, in \u001b[0;36mKalmanFilter.A\u001b[0;34m(self, A_new)\u001b[0m\n\u001b[1;32m     24\u001b[0m \u001b[39m@A\u001b[39m\u001b[39m.\u001b[39msetter\n\u001b[1;32m     25\u001b[0m \u001b[39mdef\u001b[39;00m \u001b[39mA\u001b[39m(\u001b[39mself\u001b[39m, A_new):\n\u001b[1;32m     26\u001b[0m     \u001b[39mif\u001b[39;00m \u001b[39mself\u001b[39m\u001b[39m.\u001b[39m__shape \u001b[39mis\u001b[39;00m \u001b[39mNone\u001b[39;00m:\n\u001b[0;32m---> 27\u001b[0m         \u001b[39mraise\u001b[39;00m \u001b[39mException\u001b[39;00m(\u001b[39m'\u001b[39m\u001b[39mShape must be set first!\u001b[39m\u001b[39m'\u001b[39m)\n\u001b[1;32m     28\u001b[0m     \u001b[39mself\u001b[39m\u001b[39m.\u001b[39m__A \u001b[39m=\u001b[39m A_new\n\u001b[1;32m     29\u001b[0m     \u001b[39mreturn\u001b[39;00m \u001b[39mNone\u001b[39;00m\n",
      "\u001b[0;31mException\u001b[0m: Shape must be set first!"
     ]
    }
   ],
   "source": [
    "foo = KalmanFilter()\n",
    "foo.A = [0,1]"
   ]
  },
  {
   "cell_type": "code",
   "execution_count": 29,
   "metadata": {},
   "outputs": [],
   "source": [
    "foo = KalmanFilter()\n",
    "foo.shape = [1,2]\n",
    "foo.A = [0,1]"
   ]
  }
 ],
 "metadata": {
  "kernelspec": {
   "display_name": "Python 3 (ipykernel)",
   "language": "python",
   "name": "python3"
  },
  "language_info": {
   "codemirror_mode": {
    "name": "ipython",
    "version": 3
   },
   "file_extension": ".py",
   "mimetype": "text/x-python",
   "name": "python",
   "nbconvert_exporter": "python",
   "pygments_lexer": "ipython3",
   "version": "3.10.11"
  },
  "orig_nbformat": 4
 },
 "nbformat": 4,
 "nbformat_minor": 2
}
